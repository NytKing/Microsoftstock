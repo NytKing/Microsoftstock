{
  "nbformat": 4,
  "nbformat_minor": 0,
  "metadata": {
    "colab": {
      "name": "Microsoft",
      "provenance": [],
      "authorship_tag": "ABX9TyMHQkiLGOXod9hcLlsGrDkA",
      "include_colab_link": true
    },
    "kernelspec": {
      "name": "python3",
      "display_name": "Python 3"
    },
    "language_info": {
      "name": "python"
    }
  },
  "cells": [
    {
      "cell_type": "markdown",
      "metadata": {
        "id": "view-in-github",
        "colab_type": "text"
      },
      "source": [
        "<a href=\"https://colab.research.google.com/github/NytKing/Microsoftstock/blob/main/Microsoft.ipynb\" target=\"_parent\"><img src=\"https://colab.research.google.com/assets/colab-badge.svg\" alt=\"Open In Colab\"/></a>"
      ]
    },
    {
      "cell_type": "code",
      "metadata": {
        "id": "hOSoNxPg1Rvd",
        "colab": {
          "base_uri": "https://localhost:8080/"
        },
        "outputId": "6fdb916a-d85f-4a39-9592-c5f1648d0367"
      },
      "source": [
        "import matplotlib.pyplot as plt\n",
        "import seaborn as sns\n",
        "import numpy as np\n",
        "import pandas as pd\n",
        "from statsmodels.tsa.stattools import adfuller,acf,pacf\n",
        "from statsmodels.graphics.tsaplots import plot_acf,plot_pacf\n",
        "from statsmodels.tsa.arima_model import ARIMA"
      ],
      "execution_count": 1,
      "outputs": [
        {
          "output_type": "stream",
          "text": [
            "/usr/local/lib/python3.7/dist-packages/statsmodels/tools/_testing.py:19: FutureWarning: pandas.util.testing is deprecated. Use the functions in the public API at pandas.testing instead.\n",
            "  import pandas.util.testing as tm\n"
          ],
          "name": "stderr"
        }
      ]
    },
    {
      "cell_type": "code",
      "metadata": {
        "colab": {
          "base_uri": "https://localhost:8080/",
          "height": 447
        },
        "id": "QI7tmW3DstiL",
        "outputId": "9a06ce8b-b214-4982-8d6d-2a6a08eb2d37"
      },
      "source": [
        "mic=pd.read_csv(\"https://raw.githubusercontent.com/NytKing/Microsoftstock/main/Microsoft_Stock.csv\",parse_dates=[\"Date\"],index_col=\"Date\")\n",
        "mic"
      ],
      "execution_count": 2,
      "outputs": [
        {
          "output_type": "execute_result",
          "data": {
            "text/html": [
              "<div>\n",
              "<style scoped>\n",
              "    .dataframe tbody tr th:only-of-type {\n",
              "        vertical-align: middle;\n",
              "    }\n",
              "\n",
              "    .dataframe tbody tr th {\n",
              "        vertical-align: top;\n",
              "    }\n",
              "\n",
              "    .dataframe thead th {\n",
              "        text-align: right;\n",
              "    }\n",
              "</style>\n",
              "<table border=\"1\" class=\"dataframe\">\n",
              "  <thead>\n",
              "    <tr style=\"text-align: right;\">\n",
              "      <th></th>\n",
              "      <th>Open</th>\n",
              "      <th>High</th>\n",
              "      <th>Low</th>\n",
              "      <th>Close</th>\n",
              "      <th>Volume</th>\n",
              "    </tr>\n",
              "    <tr>\n",
              "      <th>Date</th>\n",
              "      <th></th>\n",
              "      <th></th>\n",
              "      <th></th>\n",
              "      <th></th>\n",
              "      <th></th>\n",
              "    </tr>\n",
              "  </thead>\n",
              "  <tbody>\n",
              "    <tr>\n",
              "      <th>2015-04-01 16:00:00</th>\n",
              "      <td>40.60</td>\n",
              "      <td>40.76</td>\n",
              "      <td>40.31</td>\n",
              "      <td>40.72</td>\n",
              "      <td>36865322</td>\n",
              "    </tr>\n",
              "    <tr>\n",
              "      <th>2015-04-02 16:00:00</th>\n",
              "      <td>40.66</td>\n",
              "      <td>40.74</td>\n",
              "      <td>40.12</td>\n",
              "      <td>40.29</td>\n",
              "      <td>37487476</td>\n",
              "    </tr>\n",
              "    <tr>\n",
              "      <th>2015-04-06 16:00:00</th>\n",
              "      <td>40.34</td>\n",
              "      <td>41.78</td>\n",
              "      <td>40.18</td>\n",
              "      <td>41.55</td>\n",
              "      <td>39223692</td>\n",
              "    </tr>\n",
              "    <tr>\n",
              "      <th>2015-04-07 16:00:00</th>\n",
              "      <td>41.61</td>\n",
              "      <td>41.91</td>\n",
              "      <td>41.31</td>\n",
              "      <td>41.53</td>\n",
              "      <td>28809375</td>\n",
              "    </tr>\n",
              "    <tr>\n",
              "      <th>2015-04-08 16:00:00</th>\n",
              "      <td>41.48</td>\n",
              "      <td>41.69</td>\n",
              "      <td>41.04</td>\n",
              "      <td>41.42</td>\n",
              "      <td>24753438</td>\n",
              "    </tr>\n",
              "    <tr>\n",
              "      <th>...</th>\n",
              "      <td>...</td>\n",
              "      <td>...</td>\n",
              "      <td>...</td>\n",
              "      <td>...</td>\n",
              "      <td>...</td>\n",
              "    </tr>\n",
              "    <tr>\n",
              "      <th>2021-03-25 16:00:00</th>\n",
              "      <td>235.30</td>\n",
              "      <td>236.94</td>\n",
              "      <td>231.57</td>\n",
              "      <td>232.34</td>\n",
              "      <td>34061853</td>\n",
              "    </tr>\n",
              "    <tr>\n",
              "      <th>2021-03-26 16:00:00</th>\n",
              "      <td>231.55</td>\n",
              "      <td>236.71</td>\n",
              "      <td>231.55</td>\n",
              "      <td>236.48</td>\n",
              "      <td>25479853</td>\n",
              "    </tr>\n",
              "    <tr>\n",
              "      <th>2021-03-29 16:00:00</th>\n",
              "      <td>236.59</td>\n",
              "      <td>236.80</td>\n",
              "      <td>231.88</td>\n",
              "      <td>235.24</td>\n",
              "      <td>25227455</td>\n",
              "    </tr>\n",
              "    <tr>\n",
              "      <th>2021-03-30 16:00:00</th>\n",
              "      <td>233.53</td>\n",
              "      <td>233.85</td>\n",
              "      <td>231.10</td>\n",
              "      <td>231.85</td>\n",
              "      <td>24792012</td>\n",
              "    </tr>\n",
              "    <tr>\n",
              "      <th>2021-03-31 16:00:00</th>\n",
              "      <td>232.91</td>\n",
              "      <td>239.10</td>\n",
              "      <td>232.39</td>\n",
              "      <td>235.77</td>\n",
              "      <td>43623471</td>\n",
              "    </tr>\n",
              "  </tbody>\n",
              "</table>\n",
              "<p>1511 rows × 5 columns</p>\n",
              "</div>"
            ],
            "text/plain": [
              "                       Open    High     Low   Close    Volume\n",
              "Date                                                         \n",
              "2015-04-01 16:00:00   40.60   40.76   40.31   40.72  36865322\n",
              "2015-04-02 16:00:00   40.66   40.74   40.12   40.29  37487476\n",
              "2015-04-06 16:00:00   40.34   41.78   40.18   41.55  39223692\n",
              "2015-04-07 16:00:00   41.61   41.91   41.31   41.53  28809375\n",
              "2015-04-08 16:00:00   41.48   41.69   41.04   41.42  24753438\n",
              "...                     ...     ...     ...     ...       ...\n",
              "2021-03-25 16:00:00  235.30  236.94  231.57  232.34  34061853\n",
              "2021-03-26 16:00:00  231.55  236.71  231.55  236.48  25479853\n",
              "2021-03-29 16:00:00  236.59  236.80  231.88  235.24  25227455\n",
              "2021-03-30 16:00:00  233.53  233.85  231.10  231.85  24792012\n",
              "2021-03-31 16:00:00  232.91  239.10  232.39  235.77  43623471\n",
              "\n",
              "[1511 rows x 5 columns]"
            ]
          },
          "metadata": {
            "tags": []
          },
          "execution_count": 2
        }
      ]
    },
    {
      "cell_type": "code",
      "metadata": {
        "colab": {
          "base_uri": "https://localhost:8080/",
          "height": 637
        },
        "id": "xl8LUsr-s_bu",
        "outputId": "8e61c04d-c1d3-4c93-8175-5ae42c0b36f7"
      },
      "source": [
        "import missingno as miss\n",
        "miss.matrix(mic)"
      ],
      "execution_count": 3,
      "outputs": [
        {
          "output_type": "execute_result",
          "data": {
            "text/plain": [
              "<matplotlib.axes._subplots.AxesSubplot at 0x7ff22fdad950>"
            ]
          },
          "metadata": {
            "tags": []
          },
          "execution_count": 3
        },
        {
          "output_type": "display_data",
          "data": {
            "image/png": "[encoded data removed]",
            "text/plain": [
              "<Figure size 1800x720 with 2 Axes>"
            ]
          },
          "metadata": {
            "tags": [],
            "needs_background": "light"
          }
        }
      ]
    },
    {
      "cell_type": "code",
      "metadata": {
        "colab": {
          "base_uri": "https://localhost:8080/"
        },
        "id": "3x__ZDOztHq9",
        "outputId": "3d0d2576-b530-4220-fc22-e5eb522d9d34"
      },
      "source": [
        "mic.isnull().sum()"
      ],
      "execution_count": 4,
      "outputs": [
        {
          "output_type": "execute_result",
          "data": {
            "text/plain": [
              "Open      0\n",
              "High      0\n",
              "Low       0\n",
              "Close     0\n",
              "Volume    0\n",
              "dtype: int64"
            ]
          },
          "metadata": {
            "tags": []
          },
          "execution_count": 4
        }
      ]
    },
    {
      "cell_type": "code",
      "metadata": {
        "colab": {
          "base_uri": "https://localhost:8080/"
        },
        "id": "ZVc0NRCy1vOd",
        "outputId": "5914cbe3-3b92-4dd8-a53a-b0d5dcbf00f9"
      },
      "source": [
        "mic.info()"
      ],
      "execution_count": 5,
      "outputs": [
        {
          "output_type": "stream",
          "text": [
            "<class 'pandas.core.frame.DataFrame'>\n",
            "DatetimeIndex: 1511 entries, 2015-04-01 16:00:00 to 2021-03-31 16:00:00\n",
            "Data columns (total 5 columns):\n",
            " #   Column  Non-Null Count  Dtype  \n",
            "---  ------  --------------  -----  \n",
            " 0   Open    1511 non-null   float64\n",
            " 1   High    1511 non-null   float64\n",
            " 2   Low     1511 non-null   float64\n",
            " 3   Close   1511 non-null   float64\n",
            " 4   Volume  1511 non-null   int64  \n",
            "dtypes: float64(4), int64(1)\n",
            "memory usage: 70.8 KB\n"
          ],
          "name": "stdout"
        }
      ]
    },
    {
      "cell_type": "code",
      "metadata": {
        "colab": {
          "base_uri": "https://localhost:8080/",
          "height": 144
        },
        "id": "97Uk5pNPyHvO",
        "outputId": "822d5982-ac12-4147-d99d-c6bb63b80c9c"
      },
      "source": [
        "print(\"Max open price\\n\")\n",
        "mic[mic['Open']==mic['Open'].max()]"
      ],
      "execution_count": 6,
      "outputs": [
        {
          "output_type": "stream",
          "text": [
            "Max open price\n",
            "\n"
          ],
          "name": "stdout"
        },
        {
          "output_type": "execute_result",
          "data": {
            "text/html": [
              "<div>\n",
              "<style scoped>\n",
              "    .dataframe tbody tr th:only-of-type {\n",
              "        vertical-align: middle;\n",
              "    }\n",
              "\n",
              "    .dataframe tbody tr th {\n",
              "        vertical-align: top;\n",
              "    }\n",
              "\n",
              "    .dataframe thead th {\n",
              "        text-align: right;\n",
              "    }\n",
              "</style>\n",
              "<table border=\"1\" class=\"dataframe\">\n",
              "  <thead>\n",
              "    <tr style=\"text-align: right;\">\n",
              "      <th></th>\n",
              "      <th>Open</th>\n",
              "      <th>High</th>\n",
              "      <th>Low</th>\n",
              "      <th>Close</th>\n",
              "      <th>Volume</th>\n",
              "    </tr>\n",
              "    <tr>\n",
              "      <th>Date</th>\n",
              "      <th></th>\n",
              "      <th></th>\n",
              "      <th></th>\n",
              "      <th></th>\n",
              "      <th></th>\n",
              "    </tr>\n",
              "  </thead>\n",
              "  <tbody>\n",
              "    <tr>\n",
              "      <th>2021-02-16 16:00:00</th>\n",
              "      <td>245.03</td>\n",
              "      <td>246.13</td>\n",
              "      <td>242.92</td>\n",
              "      <td>243.7</td>\n",
              "      <td>26728490</td>\n",
              "    </tr>\n",
              "  </tbody>\n",
              "</table>\n",
              "</div>"
            ],
            "text/plain": [
              "                       Open    High     Low  Close    Volume\n",
              "Date                                                        \n",
              "2021-02-16 16:00:00  245.03  246.13  242.92  243.7  26728490"
            ]
          },
          "metadata": {
            "tags": []
          },
          "execution_count": 6
        }
      ]
    },
    {
      "cell_type": "code",
      "metadata": {
        "colab": {
          "base_uri": "https://localhost:8080/",
          "height": 144
        },
        "id": "_6F2fMo3yt0D",
        "outputId": "5684f3ef-d506-4062-a7b3-a52e65d50314"
      },
      "source": [
        "print(\"Min open price\\n\")\n",
        "mic[mic['Open']==mic['Open'].min()]"
      ],
      "execution_count": 7,
      "outputs": [
        {
          "output_type": "stream",
          "text": [
            "Min open price\n",
            "\n"
          ],
          "name": "stdout"
        },
        {
          "output_type": "execute_result",
          "data": {
            "text/html": [
              "<div>\n",
              "<style scoped>\n",
              "    .dataframe tbody tr th:only-of-type {\n",
              "        vertical-align: middle;\n",
              "    }\n",
              "\n",
              "    .dataframe tbody tr th {\n",
              "        vertical-align: top;\n",
              "    }\n",
              "\n",
              "    .dataframe thead th {\n",
              "        text-align: right;\n",
              "    }\n",
              "</style>\n",
              "<table border=\"1\" class=\"dataframe\">\n",
              "  <thead>\n",
              "    <tr style=\"text-align: right;\">\n",
              "      <th></th>\n",
              "      <th>Open</th>\n",
              "      <th>High</th>\n",
              "      <th>Low</th>\n",
              "      <th>Close</th>\n",
              "      <th>Volume</th>\n",
              "    </tr>\n",
              "    <tr>\n",
              "      <th>Date</th>\n",
              "      <th></th>\n",
              "      <th></th>\n",
              "      <th></th>\n",
              "      <th></th>\n",
              "      <th></th>\n",
              "    </tr>\n",
              "  </thead>\n",
              "  <tbody>\n",
              "    <tr>\n",
              "      <th>2015-04-06 16:00:00</th>\n",
              "      <td>40.34</td>\n",
              "      <td>41.78</td>\n",
              "      <td>40.18</td>\n",
              "      <td>41.55</td>\n",
              "      <td>39223692</td>\n",
              "    </tr>\n",
              "  </tbody>\n",
              "</table>\n",
              "</div>"
            ],
            "text/plain": [
              "                      Open   High    Low  Close    Volume\n",
              "Date                                                     \n",
              "2015-04-06 16:00:00  40.34  41.78  40.18  41.55  39223692"
            ]
          },
          "metadata": {
            "tags": []
          },
          "execution_count": 7
        }
      ]
    },
    {
      "cell_type": "code",
      "metadata": {
        "colab": {
          "base_uri": "https://localhost:8080/",
          "height": 144
        },
        "id": "7O3Is443yzJq",
        "outputId": "fa156ee3-8e10-4bad-a9e2-27f1f853f98c"
      },
      "source": [
        "print(\"Max high price\\n\")\n",
        "mic[mic['High']==mic['High'].max()]"
      ],
      "execution_count": 8,
      "outputs": [
        {
          "output_type": "stream",
          "text": [
            "Max high price\n",
            "\n"
          ],
          "name": "stdout"
        },
        {
          "output_type": "execute_result",
          "data": {
            "text/html": [
              "<div>\n",
              "<style scoped>\n",
              "    .dataframe tbody tr th:only-of-type {\n",
              "        vertical-align: middle;\n",
              "    }\n",
              "\n",
              "    .dataframe tbody tr th {\n",
              "        vertical-align: top;\n",
              "    }\n",
              "\n",
              "    .dataframe thead th {\n",
              "        text-align: right;\n",
              "    }\n",
              "</style>\n",
              "<table border=\"1\" class=\"dataframe\">\n",
              "  <thead>\n",
              "    <tr style=\"text-align: right;\">\n",
              "      <th></th>\n",
              "      <th>Open</th>\n",
              "      <th>High</th>\n",
              "      <th>Low</th>\n",
              "      <th>Close</th>\n",
              "      <th>Volume</th>\n",
              "    </tr>\n",
              "    <tr>\n",
              "      <th>Date</th>\n",
              "      <th></th>\n",
              "      <th></th>\n",
              "      <th></th>\n",
              "      <th></th>\n",
              "      <th></th>\n",
              "    </tr>\n",
              "  </thead>\n",
              "  <tbody>\n",
              "    <tr>\n",
              "      <th>2021-02-16 16:00:00</th>\n",
              "      <td>245.03</td>\n",
              "      <td>246.13</td>\n",
              "      <td>242.92</td>\n",
              "      <td>243.7</td>\n",
              "      <td>26728490</td>\n",
              "    </tr>\n",
              "  </tbody>\n",
              "</table>\n",
              "</div>"
            ],
            "text/plain": [
              "                       Open    High     Low  Close    Volume\n",
              "Date                                                        \n",
              "2021-02-16 16:00:00  245.03  246.13  242.92  243.7  26728490"
            ]
          },
          "metadata": {
            "tags": []
          },
          "execution_count": 8
        }
      ]
    },
    {
      "cell_type": "code",
      "metadata": {
        "colab": {
          "base_uri": "https://localhost:8080/",
          "height": 144
        },
        "id": "Iagc1ucNyzNI",
        "outputId": "bc24fe9d-a34b-419f-dd3c-e6d4a5573e3b"
      },
      "source": [
        "print(\"Min high price\\n\")\n",
        "mic[mic['High']==mic['High'].min()]"
      ],
      "execution_count": 9,
      "outputs": [
        {
          "output_type": "stream",
          "text": [
            "Min high price\n",
            "\n"
          ],
          "name": "stdout"
        },
        {
          "output_type": "execute_result",
          "data": {
            "text/html": [
              "<div>\n",
              "<style scoped>\n",
              "    .dataframe tbody tr th:only-of-type {\n",
              "        vertical-align: middle;\n",
              "    }\n",
              "\n",
              "    .dataframe tbody tr th {\n",
              "        vertical-align: top;\n",
              "    }\n",
              "\n",
              "    .dataframe thead th {\n",
              "        text-align: right;\n",
              "    }\n",
              "</style>\n",
              "<table border=\"1\" class=\"dataframe\">\n",
              "  <thead>\n",
              "    <tr style=\"text-align: right;\">\n",
              "      <th></th>\n",
              "      <th>Open</th>\n",
              "      <th>High</th>\n",
              "      <th>Low</th>\n",
              "      <th>Close</th>\n",
              "      <th>Volume</th>\n",
              "    </tr>\n",
              "    <tr>\n",
              "      <th>Date</th>\n",
              "      <th></th>\n",
              "      <th></th>\n",
              "      <th></th>\n",
              "      <th></th>\n",
              "      <th></th>\n",
              "    </tr>\n",
              "  </thead>\n",
              "  <tbody>\n",
              "    <tr>\n",
              "      <th>2015-04-02 16:00:00</th>\n",
              "      <td>40.66</td>\n",
              "      <td>40.74</td>\n",
              "      <td>40.12</td>\n",
              "      <td>40.29</td>\n",
              "      <td>37487476</td>\n",
              "    </tr>\n",
              "  </tbody>\n",
              "</table>\n",
              "</div>"
            ],
            "text/plain": [
              "                      Open   High    Low  Close    Volume\n",
              "Date                                                     \n",
              "2015-04-02 16:00:00  40.66  40.74  40.12  40.29  37487476"
            ]
          },
          "metadata": {
            "tags": []
          },
          "execution_count": 9
        }
      ]
    },
    {
      "cell_type": "code",
      "metadata": {
        "colab": {
          "base_uri": "https://localhost:8080/",
          "height": 144
        },
        "id": "78ThEa1tzIT-",
        "outputId": "83fc20bd-9594-4d4e-debe-29507b5dcd62"
      },
      "source": [
        "print(\"Max low price\\n\")\n",
        "mic[mic['Low']==mic['Low'].max()]"
      ],
      "execution_count": 10,
      "outputs": [
        {
          "output_type": "stream",
          "text": [
            "Max low price\n",
            "\n"
          ],
          "name": "stdout"
        },
        {
          "output_type": "execute_result",
          "data": {
            "text/html": [
              "<div>\n",
              "<style scoped>\n",
              "    .dataframe tbody tr th:only-of-type {\n",
              "        vertical-align: middle;\n",
              "    }\n",
              "\n",
              "    .dataframe tbody tr th {\n",
              "        vertical-align: top;\n",
              "    }\n",
              "\n",
              "    .dataframe thead th {\n",
              "        text-align: right;\n",
              "    }\n",
              "</style>\n",
              "<table border=\"1\" class=\"dataframe\">\n",
              "  <thead>\n",
              "    <tr style=\"text-align: right;\">\n",
              "      <th></th>\n",
              "      <th>Open</th>\n",
              "      <th>High</th>\n",
              "      <th>Low</th>\n",
              "      <th>Close</th>\n",
              "      <th>Volume</th>\n",
              "    </tr>\n",
              "    <tr>\n",
              "      <th>Date</th>\n",
              "      <th></th>\n",
              "      <th></th>\n",
              "      <th></th>\n",
              "      <th></th>\n",
              "      <th></th>\n",
              "    </tr>\n",
              "  </thead>\n",
              "  <tbody>\n",
              "    <tr>\n",
              "      <th>2021-02-16 16:00:00</th>\n",
              "      <td>245.03</td>\n",
              "      <td>246.13</td>\n",
              "      <td>242.92</td>\n",
              "      <td>243.7</td>\n",
              "      <td>26728490</td>\n",
              "    </tr>\n",
              "  </tbody>\n",
              "</table>\n",
              "</div>"
            ],
            "text/plain": [
              "                       Open    High     Low  Close    Volume\n",
              "Date                                                        \n",
              "2021-02-16 16:00:00  245.03  246.13  242.92  243.7  26728490"
            ]
          },
          "metadata": {
            "tags": []
          },
          "execution_count": 10
        }
      ]
    },
    {
      "cell_type": "code",
      "metadata": {
        "colab": {
          "base_uri": "https://localhost:8080/",
          "height": 144
        },
        "id": "lAQaq9akzIX_",
        "outputId": "5f2137e5-23dc-4dec-99e0-08998879a8b2"
      },
      "source": [
        "print(\"Min low price\\n\")\n",
        "mic[mic['Low']==mic['Low'].min()]"
      ],
      "execution_count": 11,
      "outputs": [
        {
          "output_type": "stream",
          "text": [
            "Min low price\n",
            "\n"
          ],
          "name": "stdout"
        },
        {
          "output_type": "execute_result",
          "data": {
            "text/html": [
              "<div>\n",
              "<style scoped>\n",
              "    .dataframe tbody tr th:only-of-type {\n",
              "        vertical-align: middle;\n",
              "    }\n",
              "\n",
              "    .dataframe tbody tr th {\n",
              "        vertical-align: top;\n",
              "    }\n",
              "\n",
              "    .dataframe thead th {\n",
              "        text-align: right;\n",
              "    }\n",
              "</style>\n",
              "<table border=\"1\" class=\"dataframe\">\n",
              "  <thead>\n",
              "    <tr style=\"text-align: right;\">\n",
              "      <th></th>\n",
              "      <th>Open</th>\n",
              "      <th>High</th>\n",
              "      <th>Low</th>\n",
              "      <th>Close</th>\n",
              "      <th>Volume</th>\n",
              "    </tr>\n",
              "    <tr>\n",
              "      <th>Date</th>\n",
              "      <th></th>\n",
              "      <th></th>\n",
              "      <th></th>\n",
              "      <th></th>\n",
              "      <th></th>\n",
              "    </tr>\n",
              "  </thead>\n",
              "  <tbody>\n",
              "    <tr>\n",
              "      <th>2015-08-24 16:00:00</th>\n",
              "      <td>40.45</td>\n",
              "      <td>43.31</td>\n",
              "      <td>39.72</td>\n",
              "      <td>41.68</td>\n",
              "      <td>88753660</td>\n",
              "    </tr>\n",
              "  </tbody>\n",
              "</table>\n",
              "</div>"
            ],
            "text/plain": [
              "                      Open   High    Low  Close    Volume\n",
              "Date                                                     \n",
              "2015-08-24 16:00:00  40.45  43.31  39.72  41.68  88753660"
            ]
          },
          "metadata": {
            "tags": []
          },
          "execution_count": 11
        }
      ]
    },
    {
      "cell_type": "code",
      "metadata": {
        "colab": {
          "base_uri": "https://localhost:8080/",
          "height": 144
        },
        "id": "dIknwCb9zYuu",
        "outputId": "69d7326c-8ee9-4fb1-b9fd-2592b0383089"
      },
      "source": [
        "print(\"Max close price\\n\")\n",
        "mic[mic['Close']==mic['Close'].max()]"
      ],
      "execution_count": 12,
      "outputs": [
        {
          "output_type": "stream",
          "text": [
            "Max close price\n",
            "\n"
          ],
          "name": "stdout"
        },
        {
          "output_type": "execute_result",
          "data": {
            "text/html": [
              "<div>\n",
              "<style scoped>\n",
              "    .dataframe tbody tr th:only-of-type {\n",
              "        vertical-align: middle;\n",
              "    }\n",
              "\n",
              "    .dataframe tbody tr th {\n",
              "        vertical-align: top;\n",
              "    }\n",
              "\n",
              "    .dataframe thead th {\n",
              "        text-align: right;\n",
              "    }\n",
              "</style>\n",
              "<table border=\"1\" class=\"dataframe\">\n",
              "  <thead>\n",
              "    <tr style=\"text-align: right;\">\n",
              "      <th></th>\n",
              "      <th>Open</th>\n",
              "      <th>High</th>\n",
              "      <th>Low</th>\n",
              "      <th>Close</th>\n",
              "      <th>Volume</th>\n",
              "    </tr>\n",
              "    <tr>\n",
              "      <th>Date</th>\n",
              "      <th></th>\n",
              "      <th></th>\n",
              "      <th></th>\n",
              "      <th></th>\n",
              "      <th></th>\n",
              "    </tr>\n",
              "  </thead>\n",
              "  <tbody>\n",
              "    <tr>\n",
              "      <th>2021-02-12 16:00:00</th>\n",
              "      <td>243.93</td>\n",
              "      <td>245.3</td>\n",
              "      <td>242.73</td>\n",
              "      <td>244.99</td>\n",
              "      <td>16561079</td>\n",
              "    </tr>\n",
              "  </tbody>\n",
              "</table>\n",
              "</div>"
            ],
            "text/plain": [
              "                       Open   High     Low   Close    Volume\n",
              "Date                                                        \n",
              "2021-02-12 16:00:00  243.93  245.3  242.73  244.99  16561079"
            ]
          },
          "metadata": {
            "tags": []
          },
          "execution_count": 12
        }
      ]
    },
    {
      "cell_type": "code",
      "metadata": {
        "colab": {
          "base_uri": "https://localhost:8080/",
          "height": 144
        },
        "id": "jLFbfDq7zYyR",
        "outputId": "ab6cbdee-0706-4e71-fa73-8e980a9bd250"
      },
      "source": [
        "print(\"Min close price\\n\")\n",
        "mic[mic['Close']==mic['Close'].min()]"
      ],
      "execution_count": 13,
      "outputs": [
        {
          "output_type": "stream",
          "text": [
            "Min close price\n",
            "\n"
          ],
          "name": "stdout"
        },
        {
          "output_type": "execute_result",
          "data": {
            "text/html": [
              "<div>\n",
              "<style scoped>\n",
              "    .dataframe tbody tr th:only-of-type {\n",
              "        vertical-align: middle;\n",
              "    }\n",
              "\n",
              "    .dataframe tbody tr th {\n",
              "        vertical-align: top;\n",
              "    }\n",
              "\n",
              "    .dataframe thead th {\n",
              "        text-align: right;\n",
              "    }\n",
              "</style>\n",
              "<table border=\"1\" class=\"dataframe\">\n",
              "  <thead>\n",
              "    <tr style=\"text-align: right;\">\n",
              "      <th></th>\n",
              "      <th>Open</th>\n",
              "      <th>High</th>\n",
              "      <th>Low</th>\n",
              "      <th>Close</th>\n",
              "      <th>Volume</th>\n",
              "    </tr>\n",
              "    <tr>\n",
              "      <th>Date</th>\n",
              "      <th></th>\n",
              "      <th></th>\n",
              "      <th></th>\n",
              "      <th></th>\n",
              "      <th></th>\n",
              "    </tr>\n",
              "  </thead>\n",
              "  <tbody>\n",
              "    <tr>\n",
              "      <th>2015-04-02 16:00:00</th>\n",
              "      <td>40.66</td>\n",
              "      <td>40.74</td>\n",
              "      <td>40.12</td>\n",
              "      <td>40.29</td>\n",
              "      <td>37487476</td>\n",
              "    </tr>\n",
              "  </tbody>\n",
              "</table>\n",
              "</div>"
            ],
            "text/plain": [
              "                      Open   High    Low  Close    Volume\n",
              "Date                                                     \n",
              "2015-04-02 16:00:00  40.66  40.74  40.12  40.29  37487476"
            ]
          },
          "metadata": {
            "tags": []
          },
          "execution_count": 13
        }
      ]
    },
    {
      "cell_type": "code",
      "metadata": {
        "colab": {
          "base_uri": "https://localhost:8080/",
          "height": 144
        },
        "id": "GvL69L3R0FXT",
        "outputId": "b9ca6ee8-3a1b-409c-d894-a79f37a45ce5"
      },
      "source": [
        "print(\"Max Volume\\n\")\n",
        "mic[mic['Volume']==mic['Volume'].max()]"
      ],
      "execution_count": 14,
      "outputs": [
        {
          "output_type": "stream",
          "text": [
            "Max Volume\n",
            "\n"
          ],
          "name": "stdout"
        },
        {
          "output_type": "execute_result",
          "data": {
            "text/html": [
              "<div>\n",
              "<style scoped>\n",
              "    .dataframe tbody tr th:only-of-type {\n",
              "        vertical-align: middle;\n",
              "    }\n",
              "\n",
              "    .dataframe tbody tr th {\n",
              "        vertical-align: top;\n",
              "    }\n",
              "\n",
              "    .dataframe thead th {\n",
              "        text-align: right;\n",
              "    }\n",
              "</style>\n",
              "<table border=\"1\" class=\"dataframe\">\n",
              "  <thead>\n",
              "    <tr style=\"text-align: right;\">\n",
              "      <th></th>\n",
              "      <th>Open</th>\n",
              "      <th>High</th>\n",
              "      <th>Low</th>\n",
              "      <th>Close</th>\n",
              "      <th>Volume</th>\n",
              "    </tr>\n",
              "    <tr>\n",
              "      <th>Date</th>\n",
              "      <th></th>\n",
              "      <th></th>\n",
              "      <th></th>\n",
              "      <th></th>\n",
              "      <th></th>\n",
              "    </tr>\n",
              "  </thead>\n",
              "  <tbody>\n",
              "    <tr>\n",
              "      <th>2015-10-23 16:00:00</th>\n",
              "      <td>52.3</td>\n",
              "      <td>54.07</td>\n",
              "      <td>52.25</td>\n",
              "      <td>52.87</td>\n",
              "      <td>135227059</td>\n",
              "    </tr>\n",
              "  </tbody>\n",
              "</table>\n",
              "</div>"
            ],
            "text/plain": [
              "                     Open   High    Low  Close     Volume\n",
              "Date                                                     \n",
              "2015-10-23 16:00:00  52.3  54.07  52.25  52.87  135227059"
            ]
          },
          "metadata": {
            "tags": []
          },
          "execution_count": 14
        }
      ]
    },
    {
      "cell_type": "code",
      "metadata": {
        "colab": {
          "base_uri": "https://localhost:8080/",
          "height": 144
        },
        "id": "U9pNZ5zB0Fa3",
        "outputId": "e37f3730-fe01-4417-fcf9-6f723c827d32"
      },
      "source": [
        "print(\"Min Volume\\n\")\n",
        "mic[mic['Volume']==mic['Volume'].min()]"
      ],
      "execution_count": 15,
      "outputs": [
        {
          "output_type": "stream",
          "text": [
            "Min Volume\n",
            "\n"
          ],
          "name": "stdout"
        },
        {
          "output_type": "execute_result",
          "data": {
            "text/html": [
              "<div>\n",
              "<style scoped>\n",
              "    .dataframe tbody tr th:only-of-type {\n",
              "        vertical-align: middle;\n",
              "    }\n",
              "\n",
              "    .dataframe tbody tr th {\n",
              "        vertical-align: top;\n",
              "    }\n",
              "\n",
              "    .dataframe thead th {\n",
              "        text-align: right;\n",
              "    }\n",
              "</style>\n",
              "<table border=\"1\" class=\"dataframe\">\n",
              "  <thead>\n",
              "    <tr style=\"text-align: right;\">\n",
              "      <th></th>\n",
              "      <th>Open</th>\n",
              "      <th>High</th>\n",
              "      <th>Low</th>\n",
              "      <th>Close</th>\n",
              "      <th>Volume</th>\n",
              "    </tr>\n",
              "    <tr>\n",
              "      <th>Date</th>\n",
              "      <th></th>\n",
              "      <th></th>\n",
              "      <th></th>\n",
              "      <th></th>\n",
              "      <th></th>\n",
              "    </tr>\n",
              "  </thead>\n",
              "  <tbody>\n",
              "    <tr>\n",
              "      <th>2019-12-09 16:00:00</th>\n",
              "      <td>150.99</td>\n",
              "      <td>151.87</td>\n",
              "      <td>150.27</td>\n",
              "      <td>151.75</td>\n",
              "      <td>101612</td>\n",
              "    </tr>\n",
              "  </tbody>\n",
              "</table>\n",
              "</div>"
            ],
            "text/plain": [
              "                       Open    High     Low   Close  Volume\n",
              "Date                                                       \n",
              "2019-12-09 16:00:00  150.99  151.87  150.27  151.75  101612"
            ]
          },
          "metadata": {
            "tags": []
          },
          "execution_count": 15
        }
      ]
    },
    {
      "cell_type": "code",
      "metadata": {
        "id": "l7dpLJY2vBoe"
      },
      "source": [
        "mic_sampled=mic[['Open', 'High', 'Low', 'Close', 'Volume']].resample(\"M\").mean()"
      ],
      "execution_count": 16,
      "outputs": []
    },
    {
      "cell_type": "code",
      "metadata": {
        "colab": {
          "base_uri": "https://localhost:8080/",
          "height": 295
        },
        "id": "ut-CojYt18Jw",
        "outputId": "48d34759-adf7-40ca-e4d9-546be0510c2d"
      },
      "source": [
        "mic_sampled.describe()"
      ],
      "execution_count": 17,
      "outputs": [
        {
          "output_type": "execute_result",
          "data": {
            "text/html": [
              "<div>\n",
              "<style scoped>\n",
              "    .dataframe tbody tr th:only-of-type {\n",
              "        vertical-align: middle;\n",
              "    }\n",
              "\n",
              "    .dataframe tbody tr th {\n",
              "        vertical-align: top;\n",
              "    }\n",
              "\n",
              "    .dataframe thead th {\n",
              "        text-align: right;\n",
              "    }\n",
              "</style>\n",
              "<table border=\"1\" class=\"dataframe\">\n",
              "  <thead>\n",
              "    <tr style=\"text-align: right;\">\n",
              "      <th></th>\n",
              "      <th>Open</th>\n",
              "      <th>High</th>\n",
              "      <th>Low</th>\n",
              "      <th>Close</th>\n",
              "      <th>Volume</th>\n",
              "    </tr>\n",
              "  </thead>\n",
              "  <tbody>\n",
              "    <tr>\n",
              "      <th>count</th>\n",
              "      <td>72.000000</td>\n",
              "      <td>72.000000</td>\n",
              "      <td>72.000000</td>\n",
              "      <td>72.000000</td>\n",
              "      <td>7.200000e+01</td>\n",
              "    </tr>\n",
              "    <tr>\n",
              "      <th>mean</th>\n",
              "      <td>107.463334</td>\n",
              "      <td>108.515200</td>\n",
              "      <td>106.370194</td>\n",
              "      <td>107.499165</td>\n",
              "      <td>3.025303e+07</td>\n",
              "    </tr>\n",
              "    <tr>\n",
              "      <th>std</th>\n",
              "      <td>56.997022</td>\n",
              "      <td>57.705720</td>\n",
              "      <td>56.282525</td>\n",
              "      <td>57.014459</td>\n",
              "      <td>8.997178e+06</td>\n",
              "    </tr>\n",
              "    <tr>\n",
              "      <th>min</th>\n",
              "      <td>43.070952</td>\n",
              "      <td>43.736667</td>\n",
              "      <td>42.870952</td>\n",
              "      <td>43.466667</td>\n",
              "      <td>1.883351e+07</td>\n",
              "    </tr>\n",
              "    <tr>\n",
              "      <th>25%</th>\n",
              "      <td>58.231056</td>\n",
              "      <td>58.566817</td>\n",
              "      <td>57.897236</td>\n",
              "      <td>58.227562</td>\n",
              "      <td>2.431270e+07</td>\n",
              "    </tr>\n",
              "    <tr>\n",
              "      <th>50%</th>\n",
              "      <td>93.380714</td>\n",
              "      <td>94.342381</td>\n",
              "      <td>91.974048</td>\n",
              "      <td>93.056905</td>\n",
              "      <td>2.868413e+07</td>\n",
              "    </tr>\n",
              "    <tr>\n",
              "      <th>75%</th>\n",
              "      <td>138.650179</td>\n",
              "      <td>139.415712</td>\n",
              "      <td>137.418048</td>\n",
              "      <td>138.393908</td>\n",
              "      <td>3.433445e+07</td>\n",
              "    </tr>\n",
              "    <tr>\n",
              "      <th>max</th>\n",
              "      <td>239.622105</td>\n",
              "      <td>241.967368</td>\n",
              "      <td>237.451579</td>\n",
              "      <td>240.066842</td>\n",
              "      <td>7.331611e+07</td>\n",
              "    </tr>\n",
              "  </tbody>\n",
              "</table>\n",
              "</div>"
            ],
            "text/plain": [
              "             Open        High         Low       Close        Volume\n",
              "count   72.000000   72.000000   72.000000   72.000000  7.200000e+01\n",
              "mean   107.463334  108.515200  106.370194  107.499165  3.025303e+07\n",
              "std     56.997022   57.705720   56.282525   57.014459  8.997178e+06\n",
              "min     43.070952   43.736667   42.870952   43.466667  1.883351e+07\n",
              "25%     58.231056   58.566817   57.897236   58.227562  2.431270e+07\n",
              "50%     93.380714   94.342381   91.974048   93.056905  2.868413e+07\n",
              "75%    138.650179  139.415712  137.418048  138.393908  3.433445e+07\n",
              "max    239.622105  241.967368  237.451579  240.066842  7.331611e+07"
            ]
          },
          "metadata": {
            "tags": []
          },
          "execution_count": 17
        }
      ]
    },
    {
      "cell_type": "code",
      "metadata": {
        "colab": {
          "base_uri": "https://localhost:8080/",
          "height": 447
        },
        "id": "ieBh0kT604Gj",
        "outputId": "07555e09-9349-4d57-88c3-41729ca45690"
      },
      "source": [
        "mic_sampled"
      ],
      "execution_count": 18,
      "outputs": [
        {
          "output_type": "execute_result",
          "data": {
            "text/html": [
              "<div>\n",
              "<style scoped>\n",
              "    .dataframe tbody tr th:only-of-type {\n",
              "        vertical-align: middle;\n",
              "    }\n",
              "\n",
              "    .dataframe tbody tr th {\n",
              "        vertical-align: top;\n",
              "    }\n",
              "\n",
              "    .dataframe thead th {\n",
              "        text-align: right;\n",
              "    }\n",
              "</style>\n",
              "<table border=\"1\" class=\"dataframe\">\n",
              "  <thead>\n",
              "    <tr style=\"text-align: right;\">\n",
              "      <th></th>\n",
              "      <th>Open</th>\n",
              "      <th>High</th>\n",
              "      <th>Low</th>\n",
              "      <th>Close</th>\n",
              "      <th>Volume</th>\n",
              "    </tr>\n",
              "    <tr>\n",
              "      <th>Date</th>\n",
              "      <th></th>\n",
              "      <th></th>\n",
              "      <th></th>\n",
              "      <th></th>\n",
              "      <th></th>\n",
              "    </tr>\n",
              "  </thead>\n",
              "  <tbody>\n",
              "    <tr>\n",
              "      <th>2015-04-30</th>\n",
              "      <td>43.070952</td>\n",
              "      <td>43.736667</td>\n",
              "      <td>42.870952</td>\n",
              "      <td>43.466667</td>\n",
              "      <td>4.164453e+07</td>\n",
              "    </tr>\n",
              "    <tr>\n",
              "      <th>2015-05-31</th>\n",
              "      <td>47.590000</td>\n",
              "      <td>47.977000</td>\n",
              "      <td>47.185500</td>\n",
              "      <td>47.530000</td>\n",
              "      <td>3.165364e+07</td>\n",
              "    </tr>\n",
              "    <tr>\n",
              "      <th>2015-06-30</th>\n",
              "      <td>46.104545</td>\n",
              "      <td>46.466364</td>\n",
              "      <td>45.679545</td>\n",
              "      <td>45.964091</td>\n",
              "      <td>3.022061e+07</td>\n",
              "    </tr>\n",
              "    <tr>\n",
              "      <th>2015-07-31</th>\n",
              "      <td>45.484545</td>\n",
              "      <td>46.013182</td>\n",
              "      <td>45.145455</td>\n",
              "      <td>45.611818</td>\n",
              "      <td>3.297537e+07</td>\n",
              "    </tr>\n",
              "    <tr>\n",
              "      <th>2015-08-31</th>\n",
              "      <td>45.541905</td>\n",
              "      <td>46.120476</td>\n",
              "      <td>44.933810</td>\n",
              "      <td>45.506667</td>\n",
              "      <td>3.697607e+07</td>\n",
              "    </tr>\n",
              "    <tr>\n",
              "      <th>...</th>\n",
              "      <td>...</td>\n",
              "      <td>...</td>\n",
              "      <td>...</td>\n",
              "      <td>...</td>\n",
              "      <td>...</td>\n",
              "    </tr>\n",
              "    <tr>\n",
              "      <th>2020-11-30</th>\n",
              "      <td>214.210000</td>\n",
              "      <td>216.458000</td>\n",
              "      <td>211.854000</td>\n",
              "      <td>214.139000</td>\n",
              "      <td>2.867372e+07</td>\n",
              "    </tr>\n",
              "    <tr>\n",
              "      <th>2020-12-31</th>\n",
              "      <td>217.612727</td>\n",
              "      <td>219.528636</td>\n",
              "      <td>216.009091</td>\n",
              "      <td>217.963182</td>\n",
              "      <td>2.702596e+07</td>\n",
              "    </tr>\n",
              "    <tr>\n",
              "      <th>2021-01-31</th>\n",
              "      <td>221.942632</td>\n",
              "      <td>224.572105</td>\n",
              "      <td>219.524211</td>\n",
              "      <td>221.975263</td>\n",
              "      <td>3.410516e+07</td>\n",
              "    </tr>\n",
              "    <tr>\n",
              "      <th>2021-02-28</th>\n",
              "      <td>239.622105</td>\n",
              "      <td>241.967368</td>\n",
              "      <td>237.451579</td>\n",
              "      <td>240.066842</td>\n",
              "      <td>2.584115e+07</td>\n",
              "    </tr>\n",
              "    <tr>\n",
              "      <th>2021-03-31</th>\n",
              "      <td>233.826522</td>\n",
              "      <td>236.289565</td>\n",
              "      <td>231.506087</td>\n",
              "      <td>233.674348</td>\n",
              "      <td>3.152094e+07</td>\n",
              "    </tr>\n",
              "  </tbody>\n",
              "</table>\n",
              "<p>72 rows × 5 columns</p>\n",
              "</div>"
            ],
            "text/plain": [
              "                  Open        High         Low       Close        Volume\n",
              "Date                                                                    \n",
              "2015-04-30   43.070952   43.736667   42.870952   43.466667  4.164453e+07\n",
              "2015-05-31   47.590000   47.977000   47.185500   47.530000  3.165364e+07\n",
              "2015-06-30   46.104545   46.466364   45.679545   45.964091  3.022061e+07\n",
              "2015-07-31   45.484545   46.013182   45.145455   45.611818  3.297537e+07\n",
              "2015-08-31   45.541905   46.120476   44.933810   45.506667  3.697607e+07\n",
              "...                ...         ...         ...         ...           ...\n",
              "2020-11-30  214.210000  216.458000  211.854000  214.139000  2.867372e+07\n",
              "2020-12-31  217.612727  219.528636  216.009091  217.963182  2.702596e+07\n",
              "2021-01-31  221.942632  224.572105  219.524211  221.975263  3.410516e+07\n",
              "2021-02-28  239.622105  241.967368  237.451579  240.066842  2.584115e+07\n",
              "2021-03-31  233.826522  236.289565  231.506087  233.674348  3.152094e+07\n",
              "\n",
              "[72 rows x 5 columns]"
            ]
          },
          "metadata": {
            "tags": []
          },
          "execution_count": 18
        }
      ]
    },
    {
      "cell_type": "code",
      "metadata": {
        "colab": {
          "base_uri": "https://localhost:8080/",
          "height": 624
        },
        "id": "9CTbRGpNy6_o",
        "outputId": "2e20404e-ce3d-4aea-80f7-ca40664895ce"
      },
      "source": [
        "plt.figure(figsize=(20,10))\n",
        "plt.subplot(2,3,1)\n",
        "sns.lineplot(data=mic_sampled[\"High\"])\n",
        "plt.subplot(2,3,2)\n",
        "sns.lineplot(data=mic_sampled[\"Low\"])\n",
        "plt.subplot(2,3,3)\n",
        "sns.lineplot(data=mic_sampled[\"Open\"])\n",
        "plt.subplot(2,3,4)\n",
        "sns.lineplot(data=mic_sampled[\"Close\"])\n",
        "plt.subplot(2,3,5)\n",
        "sns.lineplot(data=mic_sampled[\"Volume\"])"
      ],
      "execution_count": 19,
      "outputs": [
        {
          "output_type": "execute_result",
          "data": {
            "text/plain": [
              "<matplotlib.axes._subplots.AxesSubplot at 0x7ff226449dd0>"
            ]
          },
          "metadata": {
            "tags": []
          },
          "execution_count": 19
        },
        {
          "output_type": "display_data",
          "data": {
            "image/png": "[encoded data removed]",
            "text/plain": [
              "<Figure size 1440x720 with 5 Axes>"
            ]
          },
          "metadata": {
            "tags": [],
            "needs_background": "light"
          }
        }
      ]
    },
    {
      "cell_type": "code",
      "metadata": {
        "id": "Wg2JSqN0uv4g"
      },
      "source": [
        "def see(d1,d2,d3):\n",
        "  if (d1!=0 & d2!=0):\n",
        "    micm=mic[mic.index.month==d1]\n",
        "    micy=micm[micm.index.year==d2]\n",
        "    sns.lineplot(data=micy[[d3]])\n",
        "    plt.xticks(rotation=90)\n",
        "  if d1==0:\n",
        "    micy=mic[mic.index.year==d2]\n",
        "    sns.lineplot(data=micy[[d3]])\n",
        "    plt.xticks(rotation=90)\n",
        "  if d2==0:\n",
        "    micm=mic[mic.index.month==d1]\n",
        "    sns.lineplot(data=micm[[d3]])\n",
        "    plt.xticks(rotation=90)"
      ],
      "execution_count": 20,
      "outputs": []
    },
    {
      "cell_type": "code",
      "metadata": {
        "colab": {
          "base_uri": "https://localhost:8080/",
          "height": 322
        },
        "id": "kLWshnHk7gSN",
        "outputId": "451bf0c2-9686-4200-8b5e-763a11c10fb9"
      },
      "source": [
        "see(0,2018,\"Volume\")"
      ],
      "execution_count": 21,
      "outputs": [
        {
          "output_type": "display_data",
          "data": {
            "image/png": "[encoded data removed]",
            "text/plain": [
              "<Figure size 432x288 with 1 Axes>"
            ]
          },
          "metadata": {
            "tags": [],
            "needs_background": "light"
          }
        }
      ]
    },
    {
      "cell_type": "code",
      "metadata": {
        "colab": {
          "base_uri": "https://localhost:8080/",
          "height": 296
        },
        "id": "MJt8KinEBTZz",
        "outputId": "5ac3fc98-5328-40d5-98b4-9529f684cf65"
      },
      "source": [
        "sns.lineplot(data=mic_sampled[\"Open\"])"
      ],
      "execution_count": 22,
      "outputs": [
        {
          "output_type": "execute_result",
          "data": {
            "text/plain": [
              "<matplotlib.axes._subplots.AxesSubplot at 0x7ff224ac4a90>"
            ]
          },
          "metadata": {
            "tags": []
          },
          "execution_count": 22
        },
        {
          "output_type": "display_data",
          "data": {
            "image/png": "[encoded data removed]",
            "text/plain": [
              "<Figure size 432x288 with 1 Axes>"
            ]
          },
          "metadata": {
            "tags": [],
            "needs_background": "light"
          }
        }
      ]
    },
    {
      "cell_type": "code",
      "metadata": {
        "colab": {
          "base_uri": "https://localhost:8080/"
        },
        "id": "SotzD3SvakR8",
        "outputId": "b328afb0-a16d-42f0-c02d-538285e139f5"
      },
      "source": [
        "adfuller(mic_sampled[\"Open\"],autolag=\"AIC\")"
      ],
      "execution_count": 23,
      "outputs": [
        {
          "output_type": "execute_result",
          "data": {
            "text/plain": [
              "(3.7274152608575704,\n",
              " 1.0,\n",
              " 5,\n",
              " 66,\n",
              " {'1%': -3.5335601309235605,\n",
              "  '10%': -2.590723948576676,\n",
              "  '5%': -2.9064436883991434},\n",
              " 382.1271056446724)"
            ]
          },
          "metadata": {
            "tags": []
          },
          "execution_count": 23
        }
      ]
    },
    {
      "cell_type": "code",
      "metadata": {
        "colab": {
          "base_uri": "https://localhost:8080/",
          "height": 282
        },
        "id": "WxyXl8S3iEZi",
        "outputId": "834a6f9d-8557-474c-9c4a-e11c1896e4c8"
      },
      "source": [
        "log_value=np.log(mic_sampled[\"Open\"])\n",
        "diff=log_value-log_value.shift(12)\n",
        "diff.dropna(inplace=True)\n",
        "plt.plot(diff)"
      ],
      "execution_count": 24,
      "outputs": [
        {
          "output_type": "execute_result",
          "data": {
            "text/plain": [
              "[<matplotlib.lines.Line2D at 0x7ff227ce73d0>]"
            ]
          },
          "metadata": {
            "tags": []
          },
          "execution_count": 24
        },
        {
          "output_type": "display_data",
          "data": {
            "image/png": "[encoded data removed]",
            "text/plain": [
              "<Figure size 432x288 with 1 Axes>"
            ]
          },
          "metadata": {
            "tags": [],
            "needs_background": "light"
          }
        }
      ]
    },
    {
      "cell_type": "code",
      "metadata": {
        "colab": {
          "base_uri": "https://localhost:8080/"
        },
        "id": "JQZfEpq4iWqp",
        "outputId": "5cf973e1-b577-448b-a26e-0725ee41a0f9"
      },
      "source": [
        "adfuller(diff)"
      ],
      "execution_count": 25,
      "outputs": [
        {
          "output_type": "execute_result",
          "data": {
            "text/plain": [
              "(-3.318401148829688,\n",
              " 0.014075713807403668,\n",
              " 1,\n",
              " 58,\n",
              " {'1%': -3.548493559596539,\n",
              "  '10%': -2.594129155766944,\n",
              "  '5%': -2.912836594776334},\n",
              " -143.009376183185)"
            ]
          },
          "metadata": {
            "tags": []
          },
          "execution_count": 25
        }
      ]
    },
    {
      "cell_type": "code",
      "metadata": {
        "colab": {
          "base_uri": "https://localhost:8080/",
          "height": 826
        },
        "id": "I3EjcJmEplNp",
        "outputId": "35fe7301-bcbb-409d-b966-3c28a203b8a8"
      },
      "source": [
        "plt.figure(figsize=(20,10))\n",
        "plot_pacf(diff)\n",
        "plot_acf(diff)"
      ],
      "execution_count": 26,
      "outputs": [
        {
          "output_type": "execute_result",
          "data": {
            "image/png": "[encoded data removed]",
            "text/plain": [
              "<Figure size 432x288 with 1 Axes>"
            ]
          },
          "metadata": {
            "tags": []
          },
          "execution_count": 26
        },
        {
          "output_type": "display_data",
          "data": {
            "text/plain": [
              "<Figure size 1440x720 with 0 Axes>"
            ]
          },
          "metadata": {
            "tags": []
          }
        },
        {
          "output_type": "display_data",
          "data": {
            "image/png": "[encoded data removed]",
            "text/plain": [
              "<Figure size 432x288 with 1 Axes>"
            ]
          },
          "metadata": {
            "tags": [],
            "needs_background": "light"
          }
        },
        {
          "output_type": "display_data",
          "data": {
            "image/png": "[encoded data removed]",
            "text/plain": [
              "<Figure size 432x288 with 1 Axes>"
            ]
          },
          "metadata": {
            "tags": [],
            "needs_background": "light"
          }
        }
      ]
    },
    {
      "cell_type": "code",
      "metadata": {
        "colab": {
          "base_uri": "https://localhost:8080/",
          "height": 382
        },
        "id": "wkC7SjUztDEZ",
        "outputId": "1492cb00-58be-49b4-c023-9dd0fdef7662"
      },
      "source": [
        "model=ARIMA(log_value,order=(2,1,1))\n",
        "result=model.fit(disp=-1)\n",
        "result.summary()"
      ],
      "execution_count": 27,
      "outputs": [
        {
          "output_type": "execute_result",
          "data": {
            "text/html": [
              "<table class=\"simpletable\">\n",
              "<caption>ARIMA Model Results</caption>\n",
              "<tr>\n",
              "  <th>Dep. Variable:</th>      <td>D.Open</td>      <th>  No. Observations:  </th>    <td>71</td>   \n",
              "</tr>\n",
              "<tr>\n",
              "  <th>Model:</th>          <td>ARIMA(2, 1, 1)</td>  <th>  Log Likelihood     </th>  <td>125.534</td>\n",
              "</tr>\n",
              "<tr>\n",
              "  <th>Method:</th>             <td>css-mle</td>     <th>  S.D. of innovations</th>   <td>0.041</td> \n",
              "</tr>\n",
              "<tr>\n",
              "  <th>Date:</th>          <td>Sun, 01 Aug 2021</td> <th>  AIC                </th> <td>-241.067</td>\n",
              "</tr>\n",
              "<tr>\n",
              "  <th>Time:</th>              <td>15:14:29</td>     <th>  BIC                </th> <td>-229.754</td>\n",
              "</tr>\n",
              "<tr>\n",
              "  <th>Sample:</th>           <td>05-31-2015</td>    <th>  HQIC               </th> <td>-236.568</td>\n",
              "</tr>\n",
              "<tr>\n",
              "  <th></th>                 <td>- 03-31-2021</td>   <th>                     </th>     <td> </td>   \n",
              "</tr>\n",
              "</table>\n",
              "<table class=\"simpletable\">\n",
              "<tr>\n",
              "        <td></td>          <th>coef</th>     <th>std err</th>      <th>z</th>      <th>P>|z|</th>  <th>[0.025</th>    <th>0.975]</th>  \n",
              "</tr>\n",
              "<tr>\n",
              "  <th>const</th>        <td>    0.0243</td> <td>    0.001</td> <td>   25.626</td> <td> 0.000</td> <td>    0.022</td> <td>    0.026</td>\n",
              "</tr>\n",
              "<tr>\n",
              "  <th>ar.L1.D.Open</th> <td>    0.8809</td> <td>    0.119</td> <td>    7.401</td> <td> 0.000</td> <td>    0.648</td> <td>    1.114</td>\n",
              "</tr>\n",
              "<tr>\n",
              "  <th>ar.L2.D.Open</th> <td>   -0.0951</td> <td>    0.127</td> <td>   -0.751</td> <td> 0.456</td> <td>   -0.343</td> <td>    0.153</td>\n",
              "</tr>\n",
              "<tr>\n",
              "  <th>ma.L1.D.Open</th> <td>   -1.0000</td> <td>    0.070</td> <td>  -14.388</td> <td> 0.000</td> <td>   -1.136</td> <td>   -0.864</td>\n",
              "</tr>\n",
              "</table>\n",
              "<table class=\"simpletable\">\n",
              "<caption>Roots</caption>\n",
              "<tr>\n",
              "    <td></td>   <th>            Real</th>  <th>         Imaginary</th> <th>         Modulus</th>  <th>        Frequency</th>\n",
              "</tr>\n",
              "<tr>\n",
              "  <th>AR.1</th> <td>           1.3245</td> <td>          +0.0000j</td> <td>           1.3245</td> <td>           0.0000</td>\n",
              "</tr>\n",
              "<tr>\n",
              "  <th>AR.2</th> <td>           7.9395</td> <td>          +0.0000j</td> <td>           7.9395</td> <td>           0.0000</td>\n",
              "</tr>\n",
              "<tr>\n",
              "  <th>MA.1</th> <td>           1.0000</td> <td>          +0.0000j</td> <td>           1.0000</td> <td>           0.0000</td>\n",
              "</tr>\n",
              "</table>"
            ],
            "text/plain": [
              "<class 'statsmodels.iolib.summary.Summary'>\n",
              "\"\"\"\n",
              "                             ARIMA Model Results                              \n",
              "==============================================================================\n",
              "Dep. Variable:                 D.Open   No. Observations:                   71\n",
              "Model:                 ARIMA(2, 1, 1)   Log Likelihood                 125.534\n",
              "Method:                       css-mle   S.D. of innovations              0.041\n",
              "Date:                Sun, 01 Aug 2021   AIC                           -241.067\n",
              "Time:                        15:14:29   BIC                           -229.754\n",
              "Sample:                    05-31-2015   HQIC                          -236.568\n",
              "                         - 03-31-2021                                         \n",
              "================================================================================\n",
              "                   coef    std err          z      P>|z|      [0.025      0.975]\n",
              "--------------------------------------------------------------------------------\n",
              "const            0.0243      0.001     25.626      0.000       0.022       0.026\n",
              "ar.L1.D.Open     0.8809      0.119      7.401      0.000       0.648       1.114\n",
              "ar.L2.D.Open    -0.0951      0.127     -0.751      0.456      -0.343       0.153\n",
              "ma.L1.D.Open    -1.0000      0.070    -14.388      0.000      -1.136      -0.864\n",
              "                                    Roots                                    \n",
              "=============================================================================\n",
              "                  Real          Imaginary           Modulus         Frequency\n",
              "-----------------------------------------------------------------------------\n",
              "AR.1            1.3245           +0.0000j            1.3245            0.0000\n",
              "AR.2            7.9395           +0.0000j            7.9395            0.0000\n",
              "MA.1            1.0000           +0.0000j            1.0000            0.0000\n",
              "-----------------------------------------------------------------------------\n",
              "\"\"\""
            ]
          },
          "metadata": {
            "tags": []
          },
          "execution_count": 27
        }
      ]
    },
    {
      "cell_type": "code",
      "metadata": {
        "colab": {
          "base_uri": "https://localhost:8080/"
        },
        "id": "GCvtLoq8wVDS",
        "outputId": "c77a8d68-bb38-45c2-94f2-e45dc72bcedc"
      },
      "source": [
        "actual=pd.Series(result.fittedvalues,copy=True)\n",
        "actual=actual.cumsum()\n",
        "actual.head()"
      ],
      "execution_count": 28,
      "outputs": [
        {
          "output_type": "execute_result",
          "data": {
            "text/plain": [
              "Date\n",
              "2015-05-31    0.024335\n",
              "2015-06-30    0.047765\n",
              "2015-07-31    0.064860\n",
              "2015-08-31    0.088863\n",
              "2015-09-30    0.117229\n",
              "Freq: M, dtype: float64"
            ]
          },
          "metadata": {
            "tags": []
          },
          "execution_count": 28
        }
      ]
    },
    {
      "cell_type": "code",
      "metadata": {
        "colab": {
          "base_uri": "https://localhost:8080/"
        },
        "id": "wGxYE0QMzJDq",
        "outputId": "599caf20-2cf2-48a0-f0c7-505b366c0bd0"
      },
      "source": [
        "actual_log=pd.Series(log_value.iloc[0],index=log_value.index)\n",
        "actual_log=actual_log.add(actual,fill_value=0)\n",
        "actual_log.head()"
      ],
      "execution_count": 29,
      "outputs": [
        {
          "output_type": "execute_result",
          "data": {
            "text/plain": [
              "Date\n",
              "2015-04-30    3.762849\n",
              "2015-05-31    3.787183\n",
              "2015-06-30    3.810614\n",
              "2015-07-31    3.827709\n",
              "2015-08-31    3.851712\n",
              "Freq: M, dtype: float64"
            ]
          },
          "metadata": {
            "tags": []
          },
          "execution_count": 29
        }
      ]
    },
    {
      "cell_type": "code",
      "metadata": {
        "colab": {
          "base_uri": "https://localhost:8080/"
        },
        "id": "XxvvUpD62Z-w",
        "outputId": "32744e7d-b545-4a0a-c5e6-64392f6afa3c"
      },
      "source": [
        "actual_org=np.exp(actual_log)\n",
        "actual_org"
      ],
      "execution_count": 30,
      "outputs": [
        {
          "output_type": "execute_result",
          "data": {
            "text/plain": [
              "Date\n",
              "2015-04-30     43.070952\n",
              "2015-05-31     44.131923\n",
              "2015-06-30     45.178165\n",
              "2015-07-31     45.957136\n",
              "2015-08-31     47.073581\n",
              "                 ...    \n",
              "2020-11-30    297.886598\n",
              "2020-12-31    301.188916\n",
              "2021-01-31    305.406366\n",
              "2021-02-28    310.129988\n",
              "2021-03-31    313.357189\n",
              "Freq: M, Length: 72, dtype: float64"
            ]
          },
          "metadata": {
            "tags": []
          },
          "execution_count": 30
        }
      ]
    },
    {
      "cell_type": "code",
      "metadata": {
        "colab": {
          "base_uri": "https://localhost:8080/",
          "height": 282
        },
        "id": "OAb29H-T31z5",
        "outputId": "f44eeb00-313b-463f-f8b1-93797845d2f3"
      },
      "source": [
        "plt.plot(mic_sampled[\"Open\"])\n",
        "plt.plot(actual_org)"
      ],
      "execution_count": 31,
      "outputs": [
        {
          "output_type": "execute_result",
          "data": {
            "text/plain": [
              "[<matplotlib.lines.Line2D at 0x7ff2228be550>]"
            ]
          },
          "metadata": {
            "tags": []
          },
          "execution_count": 31
        },
        {
          "output_type": "display_data",
          "data": {
            "image/png": "[encoded data removed]",
            "text/plain": [
              "<Figure size 432x288 with 1 Axes>"
            ]
          },
          "metadata": {
            "tags": [],
            "needs_background": "light"
          }
        }
      ]
    },
    {
      "cell_type": "code",
      "metadata": {
        "colab": {
          "base_uri": "https://localhost:8080/",
          "height": 513
        },
        "id": "zacSF9wUuKLs",
        "outputId": "74689347-ccd2-4aa3-b51d-dc8454a30a89"
      },
      "source": [
        "\n",
        "result.plot_predict(1,120)"
      ],
      "execution_count": 32,
      "outputs": [
        {
          "output_type": "execute_result",
          "data": {
            "image/png": "[encoded data removed]",
            "text/plain": [
              "<Figure size 432x288 with 1 Axes>"
            ]
          },
          "metadata": {
            "tags": []
          },
          "execution_count": 32
        },
        {
          "output_type": "display_data",
          "data": {
            "image/png": "[encoded data removed]",
            "text/plain": [
              "<Figure size 432x288 with 1 Axes>"
            ]
          },
          "metadata": {
            "tags": [],
            "needs_background": "light"
          }
        }
      ]
    },
    {
      "cell_type": "code",
      "metadata": {
        "colab": {
          "base_uri": "https://localhost:8080/",
          "height": 284
        },
        "id": "m2Ass3CtSD2O",
        "outputId": "d8eb018f-5377-4573-a899-e81cf68790d7"
      },
      "source": [
        "plt.plot(mic_sampled[\"High\"])"
      ],
      "execution_count": 39,
      "outputs": [
        {
          "output_type": "execute_result",
          "data": {
            "text/plain": [
              "[<matplotlib.lines.Line2D at 0x7ff21daa5a50>]"
            ]
          },
          "metadata": {
            "tags": []
          },
          "execution_count": 39
        },
        {
          "output_type": "display_data",
          "data": {
            "image/png": "[encoded data removed]",
            "text/plain": [
              "<Figure size 432x288 with 1 Axes>"
            ]
          },
          "metadata": {
            "tags": [],
            "needs_background": "light"
          }
        }
      ]
    },
    {
      "cell_type": "code",
      "metadata": {
        "colab": {
          "base_uri": "https://localhost:8080/"
        },
        "id": "Q9frQVEKSL21",
        "outputId": "c10d0a36-bd6a-4ca1-f0dd-cd2e881291c7"
      },
      "source": [
        "adfuller(mic_sampled[\"High\"])"
      ],
      "execution_count": 40,
      "outputs": [
        {
          "output_type": "execute_result",
          "data": {
            "text/plain": [
              "(3.6374940312156903,\n",
              " 1.0,\n",
              " 5,\n",
              " 66,\n",
              " {'1%': -3.5335601309235605,\n",
              "  '10%': -2.590723948576676,\n",
              "  '5%': -2.9064436883991434},\n",
              " 377.4380188477136)"
            ]
          },
          "metadata": {
            "tags": []
          },
          "execution_count": 40
        }
      ]
    },
    {
      "cell_type": "code",
      "metadata": {
        "id": "RIpzAxEuS_cN"
      },
      "source": [
        "log_high=np.log(mic_sampled[\"High\"])\n",
        "rolling_high=log_high.rolling(12).mean()"
      ],
      "execution_count": 58,
      "outputs": []
    },
    {
      "cell_type": "code",
      "metadata": {
        "id": "bBI13KI7TlmI"
      },
      "source": [
        "diff_high=log_high-rolling_high\n",
        "diff_high.dropna(inplace=True)"
      ],
      "execution_count": 59,
      "outputs": []
    },
    {
      "cell_type": "code",
      "metadata": {
        "colab": {
          "base_uri": "https://localhost:8080/",
          "height": 282
        },
        "id": "W9YCazstWNEP",
        "outputId": "1a1e7ac7-01d2-4bb8-a896-dbc50ed0760c"
      },
      "source": [
        "plt.plot(diff_high)"
      ],
      "execution_count": 61,
      "outputs": [
        {
          "output_type": "execute_result",
          "data": {
            "text/plain": [
              "[<matplotlib.lines.Line2D at 0x7ff21d5e0350>]"
            ]
          },
          "metadata": {
            "tags": []
          },
          "execution_count": 61
        },
        {
          "output_type": "display_data",
          "data": {
            "image/png": "[encoded data removed]",
            "text/plain": [
              "<Figure size 432x288 with 1 Axes>"
            ]
          },
          "metadata": {
            "tags": [],
            "needs_background": "light"
          }
        }
      ]
    },
    {
      "cell_type": "code",
      "metadata": {
        "colab": {
          "base_uri": "https://localhost:8080/"
        },
        "id": "wFPH9ZggUCM2",
        "outputId": "fc60d00b-d9d8-4da4-96ad-4b0afdcbd769"
      },
      "source": [
        "adfuller(diff_high)"
      ],
      "execution_count": 60,
      "outputs": [
        {
          "output_type": "execute_result",
          "data": {
            "text/plain": [
              "(-2.7834989291295287,\n",
              " 0.06066976125481957,\n",
              " 0,\n",
              " 60,\n",
              " {'1%': -3.5443688564814813,\n",
              "  '10%': -2.5931902777777776,\n",
              "  '5%': -2.9110731481481484},\n",
              " -188.37046205225343)"
            ]
          },
          "metadata": {
            "tags": []
          },
          "execution_count": 60
        }
      ]
    },
    {
      "cell_type": "code",
      "metadata": {
        "colab": {
          "base_uri": "https://localhost:8080/",
          "height": 809
        },
        "id": "XkvInY1dWKHr",
        "outputId": "ce95f3e6-d2cb-4737-91e1-b2486e890607"
      },
      "source": [
        "plot_pacf(diff_high)\n",
        "plot_acf(diff_high)"
      ],
      "execution_count": 64,
      "outputs": [
        {
          "output_type": "execute_result",
          "data": {
            "image/png": "[encoded data removed]",
            "text/plain": [
              "<Figure size 432x288 with 1 Axes>"
            ]
          },
          "metadata": {
            "tags": []
          },
          "execution_count": 64
        },
        {
          "output_type": "display_data",
          "data": {
            "image/png": "[encoded data removed]",
            "text/plain": [
              "<Figure size 432x288 with 1 Axes>"
            ]
          },
          "metadata": {
            "tags": [],
            "needs_background": "light"
          }
        },
        {
          "output_type": "display_data",
          "data": {
            "image/png": "[encoded data removed]",
            "text/plain": [
              "<Figure size 432x288 with 1 Axes>"
            ]
          },
          "metadata": {
            "tags": [],
            "needs_background": "light"
          }
        }
      ]
    },
    {
      "cell_type": "code",
      "metadata": {
        "colab": {
          "base_uri": "https://localhost:8080/",
          "height": 617
        },
        "id": "BhD4doxcWtfc",
        "outputId": "8c4fec5b-82f1-4f27-fd30-eae456f4d98b"
      },
      "source": [
        "model2=ARIMA(log_high,order=(2,0,1))\n",
        "result_high=model2.fit()\n",
        "result_high.summary()"
      ],
      "execution_count": 70,
      "outputs": [
        {
          "output_type": "stream",
          "text": [
            "/usr/local/lib/python3.7/dist-packages/statsmodels/tsa/tsatools.py:668: RuntimeWarning: overflow encountered in exp\n",
            "  newparams = ((1-np.exp(-params))/(1+np.exp(-params))).copy()\n",
            "/usr/local/lib/python3.7/dist-packages/statsmodels/tsa/tsatools.py:668: RuntimeWarning: invalid value encountered in true_divide\n",
            "  newparams = ((1-np.exp(-params))/(1+np.exp(-params))).copy()\n",
            "/usr/local/lib/python3.7/dist-packages/statsmodels/tsa/tsatools.py:669: RuntimeWarning: overflow encountered in exp\n",
            "  tmp = ((1-np.exp(-params))/(1+np.exp(-params))).copy()\n",
            "/usr/local/lib/python3.7/dist-packages/statsmodels/tsa/tsatools.py:669: RuntimeWarning: invalid value encountered in true_divide\n",
            "  tmp = ((1-np.exp(-params))/(1+np.exp(-params))).copy()\n",
            "/usr/local/lib/python3.7/dist-packages/statsmodels/base/model.py:492: HessianInversionWarning: Inverting hessian failed, no bse or cov_params available\n",
            "  'available', HessianInversionWarning)\n",
            "/usr/local/lib/python3.7/dist-packages/statsmodels/base/model.py:512: ConvergenceWarning: Maximum Likelihood optimization failed to converge. Check mle_retvals\n",
            "  \"Check mle_retvals\", ConvergenceWarning)\n",
            "/usr/local/lib/python3.7/dist-packages/statsmodels/tsa/arima_model.py:1441: RuntimeWarning: invalid value encountered in sqrt\n",
            "  return np.sqrt(np.diag(-inv(hess)))\n"
          ],
          "name": "stderr"
        },
        {
          "output_type": "execute_result",
          "data": {
            "text/html": [
              "<table class=\"simpletable\">\n",
              "<caption>ARMA Model Results</caption>\n",
              "<tr>\n",
              "  <th>Dep. Variable:</th>       <td>High</td>       <th>  No. Observations:  </th>    <td>72</td>   \n",
              "</tr>\n",
              "<tr>\n",
              "  <th>Model:</th>            <td>ARMA(2, 1)</td>    <th>  Log Likelihood     </th>  <td>114.753</td>\n",
              "</tr>\n",
              "<tr>\n",
              "  <th>Method:</th>             <td>css-mle</td>     <th>  S.D. of innovations</th>   <td>0.042</td> \n",
              "</tr>\n",
              "<tr>\n",
              "  <th>Date:</th>          <td>Sun, 01 Aug 2021</td> <th>  AIC                </th> <td>-219.505</td>\n",
              "</tr>\n",
              "<tr>\n",
              "  <th>Time:</th>              <td>15:38:35</td>     <th>  BIC                </th> <td>-208.122</td>\n",
              "</tr>\n",
              "<tr>\n",
              "  <th>Sample:</th>           <td>04-30-2015</td>    <th>  HQIC               </th> <td>-214.974</td>\n",
              "</tr>\n",
              "<tr>\n",
              "  <th></th>                 <td>- 03-31-2021</td>   <th>                     </th>     <td> </td>   \n",
              "</tr>\n",
              "</table>\n",
              "<table class=\"simpletable\">\n",
              "<tr>\n",
              "       <td></td>         <th>coef</th>     <th>std err</th>      <th>z</th>      <th>P>|z|</th>  <th>[0.025</th>    <th>0.975]</th>  \n",
              "</tr>\n",
              "<tr>\n",
              "  <th>const</th>      <td>  101.5526</td> <td>      nan</td> <td>      nan</td> <td>   nan</td> <td>      nan</td> <td>      nan</td>\n",
              "</tr>\n",
              "<tr>\n",
              "  <th>ar.L1.High</th> <td>    1.9985</td> <td> 1.71e-06</td> <td> 1.17e+06</td> <td> 0.000</td> <td>    1.998</td> <td>    1.998</td>\n",
              "</tr>\n",
              "<tr>\n",
              "  <th>ar.L2.High</th> <td>   -0.9985</td> <td> 8.54e-07</td> <td>-1.17e+06</td> <td> 0.000</td> <td>   -0.998</td> <td>   -0.998</td>\n",
              "</tr>\n",
              "<tr>\n",
              "  <th>ma.L1.High</th> <td>   -0.8901</td> <td>      nan</td> <td>      nan</td> <td>   nan</td> <td>      nan</td> <td>      nan</td>\n",
              "</tr>\n",
              "</table>\n",
              "<table class=\"simpletable\">\n",
              "<caption>Roots</caption>\n",
              "<tr>\n",
              "    <td></td>   <th>            Real</th>  <th>         Imaginary</th> <th>         Modulus</th>  <th>        Frequency</th>\n",
              "</tr>\n",
              "<tr>\n",
              "  <th>AR.1</th> <td>           1.0000</td> <td>          +0.0000j</td> <td>           1.0000</td> <td>           0.0000</td>\n",
              "</tr>\n",
              "<tr>\n",
              "  <th>AR.2</th> <td>           1.0015</td> <td>          +0.0000j</td> <td>           1.0015</td> <td>           0.0000</td>\n",
              "</tr>\n",
              "<tr>\n",
              "  <th>MA.1</th> <td>           1.1234</td> <td>          +0.0000j</td> <td>           1.1234</td> <td>           0.0000</td>\n",
              "</tr>\n",
              "</table>"
            ],
            "text/plain": [
              "<class 'statsmodels.iolib.summary.Summary'>\n",
              "\"\"\"\n",
              "                              ARMA Model Results                              \n",
              "==============================================================================\n",
              "Dep. Variable:                   High   No. Observations:                   72\n",
              "Model:                     ARMA(2, 1)   Log Likelihood                 114.753\n",
              "Method:                       css-mle   S.D. of innovations              0.042\n",
              "Date:                Sun, 01 Aug 2021   AIC                           -219.505\n",
              "Time:                        15:38:35   BIC                           -208.122\n",
              "Sample:                    04-30-2015   HQIC                          -214.974\n",
              "                         - 03-31-2021                                         \n",
              "==============================================================================\n",
              "                 coef    std err          z      P>|z|      [0.025      0.975]\n",
              "------------------------------------------------------------------------------\n",
              "const        101.5526        nan        nan        nan         nan         nan\n",
              "ar.L1.High     1.9985   1.71e-06   1.17e+06      0.000       1.998       1.998\n",
              "ar.L2.High    -0.9985   8.54e-07  -1.17e+06      0.000      -0.998      -0.998\n",
              "ma.L1.High    -0.8901        nan        nan        nan         nan         nan\n",
              "                                    Roots                                    \n",
              "=============================================================================\n",
              "                  Real          Imaginary           Modulus         Frequency\n",
              "-----------------------------------------------------------------------------\n",
              "AR.1            1.0000           +0.0000j            1.0000            0.0000\n",
              "AR.2            1.0015           +0.0000j            1.0015            0.0000\n",
              "MA.1            1.1234           +0.0000j            1.1234            0.0000\n",
              "-----------------------------------------------------------------------------\n",
              "\"\"\""
            ]
          },
          "metadata": {
            "tags": []
          },
          "execution_count": 70
        }
      ]
    },
    {
      "cell_type": "code",
      "metadata": {
        "colab": {
          "base_uri": "https://localhost:8080/",
          "height": 515
        },
        "id": "rwH5Lg1KXhH2",
        "outputId": "4475b2c3-0a18-45bf-8ce1-6f955f6adf54"
      },
      "source": [
        "result_high.plot_predict(1,120)"
      ],
      "execution_count": 73,
      "outputs": [
        {
          "output_type": "execute_result",
          "data": {
            "image/png": "[encoded data removed]",
            "text/plain": [
              "<Figure size 432x288 with 1 Axes>"
            ]
          },
          "metadata": {
            "tags": []
          },
          "execution_count": 73
        },
        {
          "output_type": "display_data",
          "data": {
            "image/png": "[encoded data removed]",
            "text/plain": [
              "<Figure size 432x288 with 1 Axes>"
            ]
          },
          "metadata": {
            "tags": [],
            "needs_background": "light"
          }
        }
      ]
    }
  ]
}